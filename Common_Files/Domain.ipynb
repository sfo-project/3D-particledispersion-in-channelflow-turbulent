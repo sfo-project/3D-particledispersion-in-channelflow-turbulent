{
 "cells": [
  {
   "cell_type": "markdown",
   "metadata": {},
   "source": [
    "# CFD Domain's Creation & Discretization\n",
    "\n",
    "**The next step for developing the CFD simulation for a case study, after the review of physics and theory behind the problem of interest, is to create the CFD/Computational domain. This CFD domain will first be created and then discretized into small finite elements (2D) or finite volumes (3D). The flow field's governing equations are then solved numerically inside these elements or volumes via an iterative process till a converged solution inside the CFD domain is obtained. This section explains the techniques and process of creation and discretization of the CFD domain for the problem of interest. It should be highlighted that this sections provides the most generic steps and techniques to create the CFD domain. Users can implement these steps/techniques in the mesher of their choice or or Email teymourj@uw.edu to obtain the pre-generated mesh.**\n",
    "\n",
    "The CFD domain for this case study is based on the test section geometry of Snyder-Lumely experiment performed in 1970 [1]. Snyder-Lumely experimental results have been used widely for validation of particle dispersion models in turbulent flows. Hence, creating the CFD domain based on this test would provide the opportunity to experimentally validate the CFD results.\n",
    "\n",
    "The test section of Snyder-Lumely experiment is a finite three dimensional cube with a square cross section as shown in Fig. 1. The square base has $0.4064 [m]$ sides and $4.88 [m]$ length. The global origin of this geometry is put at the inlet of the domain as shown in Fig. 1. To create the geometry of the visualized CFD domain in Fig.1, it is recommended to start with a square face with given dimensions. Then extrude it by the measure of test section's length. \n",
    "\n",
    "<img src=\"./Images/CFD_domain_full.png\" width=\"500\">\n",
    "</br>\n",
    "Fig.1 - Isometric view of the the CFD domain for particle dispersion simulation in turbulent flow in test section of Snyder-Lumely experiment.\n",
    "\n",
    "After the raw geometry of the CFD domain is created, it should be discretized into finite volumes (a.k.a meshing). Technically, meshing is the process of \"chopping\" it into small finite elements and/or volumes, wherein the flow field's governing equations will be solved numerically. High quality mesh elements lead to a smooth and promising numerical solution. Therefore, it is important to increase the level of controllability on the raw geometry from the first step. For example in this problem to increase the level of controllability on the meshing process first each edge of the base square, in inlet and outlet of the test section, is meshed using 10 mesh nodes simultaneously as shown on right hand side of Fig. 2. If mesh resolution needs to be increased later changing the mesh resolution on one edge would change the mesh resolution along the other edges. \n",
    "\n",
    "Producing a high quality 3D mesh, requires high quality and well defined surface mesh elements. Hence, for this problem the 3D meshing process starts with creation of finite surface mesh elements at the test section's inlet and outlet. Both surfaces are meshed using structured surface mesh algorithm based of the previously created edge mesh as shown on left hand side of Fig. 2.\n",
    "\n",
    "<img src=\"./Images/CFD_domain_inlet_linemesh.png\" width=\"235\"> <img src=\"./Images/CFD_domain_inlet_facemesh.png\" width=\"235\">\n",
    "</br>\n",
    "Fig.2 - Line and face mesh on the pipe inlet faces.\n",
    "\n",
    "Extruding these surface mesh elements along the length of the test section would create the 3D mesh on the entire domain. To perform this extrusion first the edges along the length of the CFD domain should be meshed. The distribution of mesh element along these edges has growth ratio of $1.01$ with $200$ mesh elements focused at the inlet of the test section. Right and left hand sides of Fig. 3 visualizes the edge and surface mesh elements along the length of the test section respectively.\n",
    "\n",
    "<img src=\"./Images/CFD_domain_center_linemesh.png\" width=\"235\">\n",
    "<img src=\"./Images/CFD_domain_center_facemesh.png\" width=\"235\">\n",
    "</br>\n",
    "Fig.3 Edge and face mesh along the length of the test section.\n",
    "\n",
    "At this stage the inlet surface mesh can be extruded along the mesh elements created along the test section length to the outlet face and generate the finite volume mesh elements as visualized in Fig. 4. This results into discretization of the entire CFD domain into finite volume mesh elements shown on Fig. 4.\n",
    "\n",
    "<img src=\"./Images/CFD_domain_halve_vol_mesh.png\" width=\"235\">\n",
    "<img src=\"./Images/CFD_domain_cut_vol_mesh.png\" width=\"235\">\n",
    "</br>\n",
    "Fig.4 The 3D finite volume mesh elements created using extrusion of the inlet face mesh along test section length to the outlet.\n",
    "\n",
    "Once the mesh is generated it's quality should be examined. This can be done using the provided features and functions defined in the meshing software. In general these functions calculate the aspect ratio of each elements and report a statistical report on them. The goal is to keep the average aspect ratio close to 1 for a very high quality mesh. In this stage the CFD domain is completely meshed and is ready to be setup for a CFD simulation.\n",
    "\n",
    "<More explanations can be added here on the concept of mesh examination.>\n",
    "\n",
    "\n",
    "\n",
    "<The complete mesh file (.msh) can be downloaded here [Download Mesh Here!](link)>\n",
    "\n"
   ]
  },
  {
   "cell_type": "code",
   "execution_count": null,
   "metadata": {
    "collapsed": true
   },
   "outputs": [],
   "source": []
  }
 ],
 "metadata": {
  "kernelspec": {
   "display_name": "Python 3",
   "language": "python",
   "name": "python3"
  },
  "language_info": {
   "codemirror_mode": {
    "name": "ipython",
    "version": 3
   },
   "file_extension": ".py",
   "mimetype": "text/x-python",
   "name": "python",
   "nbconvert_exporter": "python",
   "pygments_lexer": "ipython3",
   "version": "3.5.2"
  }
 },
 "nbformat": 4,
 "nbformat_minor": 0
}
